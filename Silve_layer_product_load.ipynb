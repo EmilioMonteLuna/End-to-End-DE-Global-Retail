{
 "cells": [
  {
   "cell_type": "code",
   "execution_count": 0,
   "metadata": {
    "application/vnd.databricks.v1+cell": {
     "cellMetadata": {
      "byteLimit": 2048000,
      "rowLimit": 10000
     },
     "inputWidgets": {},
     "nuid": "4c1813a3-4fc9-4677-be84-bf5985c7a10c",
     "showTitle": false,
     "tableResultSettingsMap": {},
     "title": ""
    }
   },
   "outputs": [],
   "source": [
    "spark.sql(\"use globalretail_silver_layer\")\n",
    "spark.sql(\"\"\"\n",
    "CREATE TABLE IF NOT EXISTS silver_products (\n",
    "    product_id STRING,\n",
    "    name STRING,\n",
    "    category STRING,\n",
    "    brand STRING,\n",
    "    price DOUBLE,\n",
    "    stock_quantity INT,\n",
    "    rating DOUBLE,\n",
    "    is_active BOOLEAN,\n",
    "    price_category STRING,\n",
    "    stock_status STRING,\n",
    "    last_updated TIMESTAMP\n",
    ")\n",
    "USING DELTA\n",
    "\"\"\")"
   ]
  },
  {
   "cell_type": "code",
   "execution_count": 0,
   "metadata": {
    "application/vnd.databricks.v1+cell": {
     "cellMetadata": {
      "byteLimit": 2048000,
      "rowLimit": 10000
     },
     "inputWidgets": {},
     "nuid": "b22efb73-b738-46f9-8297-5e4cafe06585",
     "showTitle": false,
     "tableResultSettingsMap": {},
     "title": ""
    }
   },
   "outputs": [],
   "source": [
    "last_processed_df = spark.sql(\"SELECT MAX(last_updated) as last_processed FROM silver_products\")\n",
    "last_processed_timestamp = last_processed_df.collect()[0]['last_processed']\n",
    "\n",
    "if last_processed_timestamp is None:\n",
    "    last_processed_timestamp = \"1900-01-01T00:00:00.000+00:00\""
   ]
  },
  {
   "cell_type": "code",
   "execution_count": 0,
   "metadata": {
    "application/vnd.databricks.v1+cell": {
     "cellMetadata": {
      "byteLimit": 2048000,
      "rowLimit": 10000
     },
     "inputWidgets": {},
     "nuid": "c6e77b76-049b-4062-96f3-2778b398c0d8",
     "showTitle": false,
     "tableResultSettingsMap": {},
     "title": ""
    }
   },
   "outputs": [],
   "source": [
    "spark.sql(f\"\"\"\n",
    "CREATE OR REPLACE TEMPORARY VIEW bronze_incremental_products AS\n",
    "SELECT *\n",
    "FROM globalretail_bronze_layer.bronze_products WHERE ingestion_timestamp > '{last_processed_timestamp}'\n",
    "\n",
    "\"\"\")"
   ]
  },
  {
   "cell_type": "markdown",
   "metadata": {
    "application/vnd.databricks.v1+cell": {
     "cellMetadata": {},
     "inputWidgets": {},
     "nuid": "fa1e225d-bc02-4fae-9107-9734c2c47cd2",
     "showTitle": false,
     "tableResultSettingsMap": {},
     "title": ""
    }
   },
   "source": [
    "Data Transformations:\n",
    "   - Price normalization (setting negative prices to 0)\n",
    "   - Stock quantity normalization (setting negative stock to 0)\n",
    "   - Rating normalization (clamping between 0 and 5)\n",
    "   - Price categorization (Premium, Standard, Budget)\n",
    "   - Stock status calculation (Out of Stock, Low Stock, Moderate Stock, Sufficient Stock)\n"
   ]
  },
  {
   "cell_type": "code",
   "execution_count": 0,
   "metadata": {
    "application/vnd.databricks.v1+cell": {
     "cellMetadata": {
      "byteLimit": 2048000,
      "rowLimit": 10000
     },
     "inputWidgets": {},
     "nuid": "0c42e7a5-f9c0-4747-8096-0c74b63742a5",
     "showTitle": false,
     "tableResultSettingsMap": {},
     "title": ""
    }
   },
   "outputs": [],
   "source": [
    "spark.sql(\"\"\"\n",
    "CREATE OR REPLACE TEMPORARY VIEW silver_incremental_products AS\n",
    "SELECT\n",
    "    product_id,\n",
    "    name,\n",
    "    category,\n",
    "    brand,\n",
    "    CASE\n",
    "        WHEN price < 0 THEN 0\n",
    "        ELSE price\n",
    "    END AS price,\n",
    "    CASE\n",
    "        WHEN stock_quantity < 0 THEN 0\n",
    "        ELSE stock_quantity\n",
    "    END AS stock_quantity,\n",
    "    CASE\n",
    "        WHEN rating < 0 THEN 0\n",
    "        WHEN rating > 5 THEN 5\n",
    "        ELSE rating\n",
    "    END AS rating,\n",
    "    is_active,\n",
    "    CASE\n",
    "        WHEN price > 1000 THEN 'Premium'\n",
    "        WHEN price > 100 THEN 'Standard'\n",
    "        ELSE 'Budget'\n",
    "    END AS price_category,\n",
    "    CASE\n",
    "        WHEN stock_quantity = 0 THEN 'Out of Stock'\n",
    "        WHEN stock_quantity < 10 THEN 'Low Stock'\n",
    "        WHEN stock_quantity < 50 THEN 'Moderate Stock'\n",
    "        ELSE 'Sufficient Stock'\n",
    "    END AS stock_status,\n",
    "    CURRENT_TIMESTAMP() AS last_updated\n",
    "FROM bronze_incremental_products\n",
    "WHERE name IS NOT NULL AND category IS NOT NULL\n",
    "\"\"\")"
   ]
  },
  {
   "cell_type": "code",
   "execution_count": 0,
   "metadata": {
    "application/vnd.databricks.v1+cell": {
     "cellMetadata": {
      "byteLimit": 2048000,
      "implicitDf": true,
      "rowLimit": 10000
     },
     "inputWidgets": {},
     "nuid": "ae69cd53-00e4-4389-b4a0-85e1e416b701",
     "showTitle": false,
     "tableResultSettingsMap": {},
     "title": ""
    }
   },
   "outputs": [],
   "source": [
    "%sql\n",
    "select * from silver_incremental_products limit 100"
   ]
  },
  {
   "cell_type": "code",
   "execution_count": 0,
   "metadata": {
    "application/vnd.databricks.v1+cell": {
     "cellMetadata": {
      "byteLimit": 2048000,
      "rowLimit": 10000
     },
     "inputWidgets": {},
     "nuid": "c0b9a335-1ab3-49ef-95f6-44b089103cca",
     "showTitle": false,
     "tableResultSettingsMap": {},
     "title": ""
    }
   },
   "outputs": [],
   "source": [
    "spark.sql(\"\"\"\n",
    "MERGE INTO silver_products target\n",
    "USING silver_incremental_products source\n",
    "ON target.product_id = source.product_id\n",
    "WHEN MATCHED THEN\n",
    "    UPDATE SET *\n",
    "WHEN NOT MATCHED THEN\n",
    "    INSERT *\n",
    "\"\"\")"
   ]
  }
 ],
 "metadata": {
  "application/vnd.databricks.v1+notebook": {
   "computePreferences": null,
   "dashboards": [],
   "environmentMetadata": {
    "base_environment": "",
    "environment_version": "3"
   },
   "inputWidgetPreferences": null,
   "language": "python",
   "notebookMetadata": {
    "mostRecentlyExecutedCommandWithImplicitDF": {
     "commandId": 4718270133442095,
     "dataframes": [
      "_sqldf"
     ]
    },
    "pythonIndentUnit": 4
   },
   "notebookName": "Silve_layer_product_load",
   "widgets": {}
  },
  "language_info": {
   "name": "python"
  }
 },
 "nbformat": 4,
 "nbformat_minor": 0
}
