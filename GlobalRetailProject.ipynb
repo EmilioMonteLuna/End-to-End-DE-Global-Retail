{
 "cells": [
  {
   "cell_type": "code",
   "execution_count": 0,
   "metadata": {
    "application/vnd.databricks.v1+cell": {
     "cellMetadata": {
      "byteLimit": 2048000,
      "implicitDf": true,
      "rowLimit": 10000
     },
     "inputWidgets": {},
     "nuid": "a6707530-0c14-4134-bd65-588f4790c900",
     "showTitle": false,
     "tableResultSettingsMap": {},
     "title": ""
    }
   },
   "outputs": [],
   "source": [
    "%sql\n",
    "-- Create a catalog\n",
    "CREATE CATALOG GlobalRetail;\n",
    "\n",
    "-- Create a schema within the catalog\n",
    "CREATE SCHEMA GlobalRetail.data_pipeline;\n",
    "\n",
    "-- Create volumes for bronze, silver, and gold layers\n",
    "CREATE VOLUME GlobalRetail.data_pipeline.bronze;\n",
    "CREATE VOLUME GlobalRetail.data_pipeline.silver;\n",
    "CREATE VOLUME GlobalRetail.data_pipeline.gold;"
   ]
  },
  {
   "cell_type": "code",
   "execution_count": 0,
   "metadata": {
    "application/vnd.databricks.v1+cell": {
     "cellMetadata": {
      "byteLimit": 2048000,
      "rowLimit": 10000
     },
     "inputWidgets": {},
     "nuid": "a94ce479-0d51-4d3f-bdf5-a7db14c54ed3",
     "showTitle": false,
     "tableResultSettingsMap": {},
     "title": ""
    }
   },
   "outputs": [],
   "source": [
    "# Define the path for the bronze layer\n",
    "bronze_path = \"/Volumes/GlobalRetail/data_pipeline/bronze\"\n",
    "\n",
    "# Create directories for customer_data, product_catalog_data, and transaction_data within the bronze layer\n",
    "dbutils.fs.mkdirs(f\"{bronze_path}/customer_data\")\n",
    "dbutils.fs.mkdirs(f\"{bronze_path}/product_catalog_data\")\n",
    "dbutils.fs.mkdirs(f\"{bronze_path}/transaction_data\")"
   ]
  },
  {
   "cell_type": "code",
   "execution_count": 0,
   "metadata": {
    "application/vnd.databricks.v1+cell": {
     "cellMetadata": {
      "byteLimit": 2048000,
      "rowLimit": 10000
     },
     "inputWidgets": {},
     "nuid": "bd8efa28-f2bb-4727-b873-20ad5d3d16b5",
     "showTitle": false,
     "tableResultSettingsMap": {},
     "title": ""
    }
   },
   "outputs": [],
   "source": [
    "# Verify the directories have been created\n",
    "print(dbutils.fs.ls(bronze_path))"
   ]
  },
  {
   "cell_type": "code",
   "execution_count": 0,
   "metadata": {
    "application/vnd.databricks.v1+cell": {
     "cellMetadata": {
      "byteLimit": 2048000,
      "implicitDf": true,
      "rowLimit": 10000
     },
     "inputWidgets": {},
     "nuid": "8b5eb769-d5eb-4214-9151-baecddf165b5",
     "showTitle": false,
     "tableResultSettingsMap": {},
     "title": ""
    }
   },
   "outputs": [],
   "source": [
    "%sql\n",
    "CREATE DATABASE IF NOT EXISTS globalretail_bronze_layer;\n",
    "CREATE DATABASE IF NOT EXISTS globalretail_silver_layer;\n",
    "CREATE DATABASE IF NOT EXISTS globalretail_gold_layer;"
   ]
  },
  {
   "cell_type": "code",
   "execution_count": 0,
   "metadata": {
    "application/vnd.databricks.v1+cell": {
     "cellMetadata": {
      "byteLimit": 2048000,
      "implicitDf": true,
      "rowLimit": 10000
     },
     "inputWidgets": {},
     "nuid": "4c6575d9-c519-4c81-9703-9f2ac79715e6",
     "showTitle": false,
     "tableResultSettingsMap": {},
     "title": ""
    }
   },
   "outputs": [],
   "source": [
    "%sql\n",
    "-- show databases\n",
    "-- select current_database()\n",
    "USE globalretail_bronze_layer;"
   ]
  }
 ],
 "metadata": {
  "application/vnd.databricks.v1+notebook": {
   "computePreferences": null,
   "dashboards": [],
   "environmentMetadata": {
    "base_environment": "",
    "environment_version": "3"
   },
   "inputWidgetPreferences": null,
   "language": "python",
   "notebookMetadata": {
    "mostRecentlyExecutedCommandWithImplicitDF": {
     "commandId": 5362497810563183,
     "dataframes": [
      "_sqldf"
     ]
    },
    "pythonIndentUnit": 4
   },
   "notebookName": "GlobalRetailProject",
   "widgets": {}
  },
  "language_info": {
   "name": "python"
  }
 },
 "nbformat": 4,
 "nbformat_minor": 0
}
